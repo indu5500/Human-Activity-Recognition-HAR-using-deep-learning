{
  "nbformat": 4,
  "nbformat_minor": 0,
  "metadata": {
    "colab": {
      "provenance": [],
      "collapsed_sections": []
    },
    "kernelspec": {
      "name": "python3",
      "display_name": "Python 3"
    },
    "language_info": {
      "name": "python"
    }
  },
  "cells": [
    {
      "cell_type": "code",
      "execution_count": null,
      "metadata": {
        "id": "IZaweIg1zsyU"
      },
      "outputs": [],
      "source": [
        "# Importing Libraries\n",
        "import pandas as pd\n",
        "import numpy as np"
      ]
    },
    {
      "cell_type": "code",
      "source": [
        "# Activities are the class labels\n",
        "# It is a 6 class classification\n",
        "ACTIVITIES = {\n",
        "    0: 'WALKING',\n",
        "    1: 'WALKING_UPSTAIRS',\n",
        "    2: 'WALKING_DOWNSTAIRS',\n",
        "    3: 'SITTING',\n",
        "    4: 'STANDING',\n",
        "    5: 'LAYING',\n",
        "}\n",
        "\n",
        "# Utility function to print the confusion matrix\n",
        "def confusion_matrix(Y_true, Y_pred):\n",
        "    Y_true = pd.Series([ACTIVITIES[y] for y in np.argmax(Y_true, axis=1)])\n",
        "    Y_pred = pd.Series([ACTIVITIES[y] for y in np.argmax(Y_pred, axis=1)])\n",
        "\n",
        "    return pd.crosstab(Y_true, Y_pred, rownames=['True'], colnames=['Pred'])"
      ],
      "metadata": {
        "id": "rHddDhzez_Yn"
      },
      "execution_count": null,
      "outputs": []
    },
    {
      "cell_type": "code",
      "source": [
        "from google.colab import drive\n",
        "drive.mount('/content/drive')"
      ],
      "metadata": {
        "colab": {
          "base_uri": "https://localhost:8080/"
        },
        "id": "z6MXYN0b0GcP",
        "outputId": "d2d6fa5f-6daa-4272-bfb4-1a187eb4beab"
      },
      "execution_count": null,
      "outputs": [
        {
          "output_type": "stream",
          "name": "stdout",
          "text": [
            "Drive already mounted at /content/drive; to attempt to forcibly remount, call drive.mount(\"/content/drive\", force_remount=True).\n"
          ]
        }
      ]
    },
    {
      "cell_type": "code",
      "source": [
        "# Data directory\n",
        "DATADIR = '/content/drive/MyDrive/HAR/UCI_HAR_dataset'"
      ],
      "metadata": {
        "id": "Ix6D8iAR0L7i"
      },
      "execution_count": null,
      "outputs": []
    },
    {
      "cell_type": "code",
      "source": [
        "# Raw data signals\n",
        "# Signals are from Accelerometer and Gyroscope\n",
        "# The signals are in x,y,z directions\n",
        "# Sensor signals are filtered to have only body acceleration\n",
        "# excluding the acceleration due to gravity\n",
        "# Triaxial acceleration from the accelerometer is total acceleration\n",
        "SIGNALS = [\n",
        "    \"body_acc_x\",\n",
        "    \"body_acc_y\",\n",
        "    \"body_acc_z\",\n",
        "    \"body_gyro_x\",\n",
        "    \"body_gyro_y\",\n",
        "    \"body_gyro_z\",\n",
        "    \"total_acc_x\",\n",
        "    \"total_acc_y\",\n",
        "    \"total_acc_z\"\n",
        "]"
      ],
      "metadata": {
        "id": "O0DblbB10P8j"
      },
      "execution_count": null,
      "outputs": []
    },
    {
      "cell_type": "code",
      "source": [
        "# Utility function to read the data from csv file\n",
        "def _read_csv(filename):\n",
        "    return pd.read_csv(filename, delim_whitespace=True, header=None)\n",
        "\n",
        "# Utility function to load the load\n",
        "def load_signals(subset):\n",
        "    signals_data = []\n",
        "\n",
        "    for signal in SIGNALS:\n",
        "        filename = f'/content/drive/MyDrive/HAR/UCI_HAR_dataset/{subset}/Inertial Signals/{signal}_{subset}.txt'\n",
        "        signals_data.append(\n",
        "            _read_csv(filename).values\n",
        "        ) \n",
        "\n",
        "    # Transpose is used to change the dimensionality of the output,\n",
        "    # aggregating the signals by combination of sample/timestep.\n",
        "    # Resultant shape is (7352 train/2947 test samples, 128 timesteps, 9 signals)\n",
        "    return np.transpose(signals_data, (1, 2, 0))"
      ],
      "metadata": {
        "id": "IFXbJ1k30S_I"
      },
      "execution_count": null,
      "outputs": []
    },
    {
      "cell_type": "code",
      "source": [
        "def load_y(subset):\n",
        "    \"\"\"\n",
        "    The objective that we are trying to predict is a integer, from 1 to 6,\n",
        "    that represents a human activity. We return a binary representation of \n",
        "    every sample objective as a 6 bits vector using One Hot Encoding\n",
        "    (https://pandas.pydata.org/pandas-docs/stable/generated/pandas.get_dummies.html)\n",
        "    \"\"\"\n",
        "    filename = f'/content/drive/MyDrive/HAR/UCI_HAR_dataset/{subset}/y_{subset}.txt'\n",
        "    y = _read_csv(filename)[0]\n",
        "\n",
        "    return pd.get_dummies(y).values"
      ],
      "metadata": {
        "id": "vrttQG0s0Voi"
      },
      "execution_count": null,
      "outputs": []
    },
    {
      "cell_type": "code",
      "source": [
        "def load_data():\n",
        "    \"\"\"\n",
        "    Obtain the dataset from multiple files.\n",
        "    Returns: X_train, X_test, y_train, y_test\n",
        "    \"\"\"\n",
        "    X_train, X_test = load_signals('train'), load_signals('test')\n",
        "    y_train, y_test = load_y('train'), load_y('test')\n",
        "\n",
        "    return X_train, X_test, y_train, y_test"
      ],
      "metadata": {
        "id": "fY5QXYS70anC"
      },
      "execution_count": null,
      "outputs": []
    },
    {
      "cell_type": "code",
      "source": [
        "# Importing tensorflow\n",
        "np.random.seed(42)\n",
        "import tensorflow as tf\n",
        "tf.compat.v1.set_random_seed(42)"
      ],
      "metadata": {
        "id": "2qeUVsAT0cZ8"
      },
      "execution_count": null,
      "outputs": []
    },
    {
      "cell_type": "code",
      "source": [
        "# Configuring a session\n",
        "session_conf = tf.compat.v1.ConfigProto(\n",
        "    intra_op_parallelism_threads=1,\n",
        "    inter_op_parallelism_threads=1\n",
        ")"
      ],
      "metadata": {
        "id": "uDxQ5DUq0fY5"
      },
      "execution_count": null,
      "outputs": []
    },
    {
      "cell_type": "code",
      "source": [
        "# Import Keras\n",
        "from keras import backend as K\n",
        "sess = tf.compat.v1.Session(graph=tf.compat.v1.get_default_graph(), config=session_conf)\n",
        "K.set_session(sess)"
      ],
      "metadata": {
        "id": "Tgxeatri0jDY"
      },
      "execution_count": null,
      "outputs": []
    },
    {
      "cell_type": "code",
      "source": [
        "# Importing libraries\n",
        "from keras.models import Sequential\n",
        "from keras.layers import LSTM\n",
        "from keras.layers.core import Dense, Dropout"
      ],
      "metadata": {
        "id": "xTM6Jhff0mU7"
      },
      "execution_count": null,
      "outputs": []
    },
    {
      "cell_type": "code",
      "source": [
        "# Initializing parameters\n",
        "epochs = 30\n",
        "batch_size = 16\n",
        "n_hidden = 32"
      ],
      "metadata": {
        "id": "fR9yNNKl0ppW"
      },
      "execution_count": null,
      "outputs": []
    },
    {
      "cell_type": "code",
      "source": [
        "# Utility function to count the number of classes\n",
        "def _count_classes(y):\n",
        "    return len(set([tuple(category) for category in y]))"
      ],
      "metadata": {
        "id": "sVDoiF1Q0sRo"
      },
      "execution_count": null,
      "outputs": []
    },
    {
      "cell_type": "code",
      "source": [
        "# Loading the train and test data\n",
        "X_train, X_test, Y_train, Y_test = load_data()"
      ],
      "metadata": {
        "id": "KzhP2gLA0u9m"
      },
      "execution_count": null,
      "outputs": []
    },
    {
      "cell_type": "code",
      "source": [
        "timesteps = len(X_train[0])\n",
        "input_dim = len(X_train[0][0])\n",
        "n_classes = _count_classes(Y_train)\n",
        "\n",
        "print(timesteps)\n",
        "print(input_dim)\n",
        "print(len(X_train))"
      ],
      "metadata": {
        "colab": {
          "base_uri": "https://localhost:8080/"
        },
        "id": "mC2gWn3A06Bg",
        "outputId": "cb7eab58-fd56-4eec-f34f-2b027c71f94d"
      },
      "execution_count": null,
      "outputs": [
        {
          "output_type": "stream",
          "name": "stdout",
          "text": [
            "128\n",
            "9\n",
            "7352\n"
          ]
        }
      ]
    },
    {
      "cell_type": "code",
      "source": [
        "# Initiliazing the sequential model\n",
        "model = Sequential()\n",
        "# Configuring the parameters\n",
        "model.add(LSTM(n_hidden, input_shape=(timesteps, input_dim)))\n",
        "# Adding a dropout layer\n",
        "model.add(Dropout(0.5))\n",
        "# Adding a dense output layer with sigmoid activation\n",
        "model.add(Dense(n_classes, activation='sigmoid'))\n",
        "model.summary()"
      ],
      "metadata": {
        "colab": {
          "base_uri": "https://localhost:8080/"
        },
        "id": "KuThD7ow1AFz",
        "outputId": "f018b0fa-aba2-4e46-e358-22dcd232436b"
      },
      "execution_count": null,
      "outputs": [
        {
          "output_type": "stream",
          "name": "stdout",
          "text": [
            "Model: \"sequential\"\n",
            "_________________________________________________________________\n",
            " Layer (type)                Output Shape              Param #   \n",
            "=================================================================\n",
            " lstm (LSTM)                 (None, 32)                5376      \n",
            "                                                                 \n",
            " dropout (Dropout)           (None, 32)                0         \n",
            "                                                                 \n",
            " dense (Dense)               (None, 6)                 198       \n",
            "                                                                 \n",
            "=================================================================\n",
            "Total params: 5,574\n",
            "Trainable params: 5,574\n",
            "Non-trainable params: 0\n",
            "_________________________________________________________________\n"
          ]
        }
      ]
    },
    {
      "cell_type": "code",
      "source": [
        "# Compiling the model\n",
        "model.compile(loss='categorical_crossentropy',\n",
        "              optimizer='rmsprop',\n",
        "              metrics=['accuracy'])"
      ],
      "metadata": {
        "id": "-5OP7kM_1Edp"
      },
      "execution_count": null,
      "outputs": []
    },
    {
      "cell_type": "code",
      "source": [
        "# Training the model\n",
        "model.fit(X_train,\n",
        "          Y_train,\n",
        "          batch_size=batch_size,\n",
        "          validation_data=(X_test, Y_test),\n",
        "          epochs=epochs)"
      ],
      "metadata": {
        "colab": {
          "base_uri": "https://localhost:8080/"
        },
        "id": "lxRobV8g1H3M",
        "outputId": "b9745018-a9a7-473f-f344-1d07081291eb"
      },
      "execution_count": null,
      "outputs": [
        {
          "output_type": "stream",
          "name": "stdout",
          "text": [
            "Epoch 1/30\n",
            "460/460 [==============================] - 19s 37ms/step - loss: 1.1889 - accuracy: 0.5027 - val_loss: 0.9088 - val_accuracy: 0.6206\n",
            "Epoch 2/30\n",
            "460/460 [==============================] - 11s 24ms/step - loss: 0.7938 - accuracy: 0.6576 - val_loss: 0.7904 - val_accuracy: 0.6878\n",
            "Epoch 3/30\n",
            "460/460 [==============================] - 11s 25ms/step - loss: 0.6605 - accuracy: 0.7228 - val_loss: 0.6852 - val_accuracy: 0.7384\n",
            "Epoch 4/30\n",
            "460/460 [==============================] - 12s 26ms/step - loss: 0.4930 - accuracy: 0.8236 - val_loss: 0.7445 - val_accuracy: 0.7713\n",
            "Epoch 5/30\n",
            "460/460 [==============================] - 11s 24ms/step - loss: 0.3684 - accuracy: 0.8855 - val_loss: 0.5712 - val_accuracy: 0.8327\n",
            "Epoch 6/30\n",
            "460/460 [==============================] - 12s 25ms/step - loss: 0.3111 - accuracy: 0.9006 - val_loss: 0.5125 - val_accuracy: 0.8415\n",
            "Epoch 7/30\n",
            "460/460 [==============================] - 12s 27ms/step - loss: 0.2631 - accuracy: 0.9203 - val_loss: 0.3902 - val_accuracy: 0.8744\n",
            "Epoch 8/30\n",
            "460/460 [==============================] - 11s 25ms/step - loss: 0.2530 - accuracy: 0.9206 - val_loss: 0.5092 - val_accuracy: 0.8609\n",
            "Epoch 9/30\n",
            "460/460 [==============================] - 11s 25ms/step - loss: 0.2175 - accuracy: 0.9309 - val_loss: 0.3819 - val_accuracy: 0.8802\n",
            "Epoch 10/30\n",
            "460/460 [==============================] - 11s 25ms/step - loss: 0.2025 - accuracy: 0.9323 - val_loss: 0.4003 - val_accuracy: 0.8839\n",
            "Epoch 11/30\n",
            "460/460 [==============================] - 11s 24ms/step - loss: 0.2003 - accuracy: 0.9312 - val_loss: 0.3944 - val_accuracy: 0.8755\n",
            "Epoch 12/30\n",
            "460/460 [==============================] - 11s 25ms/step - loss: 0.1748 - accuracy: 0.9391 - val_loss: 0.5859 - val_accuracy: 0.8782\n",
            "Epoch 13/30\n",
            "460/460 [==============================] - 11s 25ms/step - loss: 0.1735 - accuracy: 0.9393 - val_loss: 0.6089 - val_accuracy: 0.8680\n",
            "Epoch 14/30\n",
            "460/460 [==============================] - 11s 24ms/step - loss: 0.1888 - accuracy: 0.9344 - val_loss: 0.3703 - val_accuracy: 0.8850\n",
            "Epoch 15/30\n",
            "460/460 [==============================] - 11s 25ms/step - loss: 0.1578 - accuracy: 0.9449 - val_loss: 0.3858 - val_accuracy: 0.8982\n",
            "Epoch 16/30\n",
            "460/460 [==============================] - 11s 25ms/step - loss: 0.1792 - accuracy: 0.9440 - val_loss: 0.3868 - val_accuracy: 0.8965\n",
            "Epoch 17/30\n",
            "460/460 [==============================] - 11s 25ms/step - loss: 0.1573 - accuracy: 0.9448 - val_loss: 0.4007 - val_accuracy: 0.8867\n",
            "Epoch 18/30\n",
            "460/460 [==============================] - 13s 28ms/step - loss: 0.1938 - accuracy: 0.9346 - val_loss: 0.3479 - val_accuracy: 0.8975\n",
            "Epoch 19/30\n",
            "460/460 [==============================] - 12s 25ms/step - loss: 0.1575 - accuracy: 0.9415 - val_loss: 0.4961 - val_accuracy: 0.8897\n",
            "Epoch 20/30\n",
            "460/460 [==============================] - 12s 25ms/step - loss: 0.1568 - accuracy: 0.9470 - val_loss: 0.3765 - val_accuracy: 0.8989\n",
            "Epoch 21/30\n",
            "460/460 [==============================] - 12s 25ms/step - loss: 0.1474 - accuracy: 0.9433 - val_loss: 0.4145 - val_accuracy: 0.8982\n",
            "Epoch 22/30\n",
            "460/460 [==============================] - 11s 25ms/step - loss: 0.1418 - accuracy: 0.9479 - val_loss: 0.5924 - val_accuracy: 0.8629\n",
            "Epoch 23/30\n",
            "460/460 [==============================] - 11s 25ms/step - loss: 0.1409 - accuracy: 0.9487 - val_loss: 0.5704 - val_accuracy: 0.8975\n",
            "Epoch 24/30\n",
            "460/460 [==============================] - 12s 25ms/step - loss: 0.1439 - accuracy: 0.9480 - val_loss: 0.5764 - val_accuracy: 0.9040\n",
            "Epoch 25/30\n",
            "460/460 [==============================] - 12s 25ms/step - loss: 0.1420 - accuracy: 0.9502 - val_loss: 0.3979 - val_accuracy: 0.8867\n",
            "Epoch 26/30\n",
            "460/460 [==============================] - 11s 25ms/step - loss: 0.1487 - accuracy: 0.9455 - val_loss: 0.4195 - val_accuracy: 0.8996\n",
            "Epoch 27/30\n",
            "460/460 [==============================] - 11s 25ms/step - loss: 0.1449 - accuracy: 0.9472 - val_loss: 0.4540 - val_accuracy: 0.8924\n",
            "Epoch 28/30\n",
            "460/460 [==============================] - 11s 25ms/step - loss: 0.1458 - accuracy: 0.9455 - val_loss: 0.4560 - val_accuracy: 0.9067\n",
            "Epoch 29/30\n",
            "460/460 [==============================] - 12s 27ms/step - loss: 0.1476 - accuracy: 0.9470 - val_loss: 0.5339 - val_accuracy: 0.8928\n",
            "Epoch 30/30\n",
            "460/460 [==============================] - 11s 25ms/step - loss: 0.1393 - accuracy: 0.9498 - val_loss: 0.4137 - val_accuracy: 0.9104\n"
          ]
        },
        {
          "output_type": "execute_result",
          "data": {
            "text/plain": [
              "<keras.callbacks.History at 0x7fc54dbc9ed0>"
            ]
          },
          "metadata": {},
          "execution_count": 22
        }
      ]
    },
    {
      "cell_type": "code",
      "source": [
        "# Confusion Matrix\n",
        "print(confusion_matrix(Y_test, model.predict(X_test)))"
      ],
      "metadata": {
        "colab": {
          "base_uri": "https://localhost:8080/"
        },
        "id": "liSgL63x3kDN",
        "outputId": "a0b43a12-bbed-49f6-da7e-e59d5d9e29e1"
      },
      "execution_count": null,
      "outputs": [
        {
          "output_type": "stream",
          "name": "stdout",
          "text": [
            "93/93 [==============================] - 1s 7ms/step\n",
            "Pred                LAYING  SITTING  STANDING  WALKING  WALKING_DOWNSTAIRS  \\\n",
            "True                                                                         \n",
            "LAYING                 510        0        27        0                   0   \n",
            "SITTING                  1      417        68        0                   3   \n",
            "STANDING                 0      101       429        1                   0   \n",
            "WALKING                  0        5         0      453                   1   \n",
            "WALKING_DOWNSTAIRS       0        0         0        3                 414   \n",
            "WALKING_UPSTAIRS         1        1         0        6                   3   \n",
            "\n",
            "Pred                WALKING_UPSTAIRS  \n",
            "True                                  \n",
            "LAYING                             0  \n",
            "SITTING                            2  \n",
            "STANDING                           1  \n",
            "WALKING                           37  \n",
            "WALKING_DOWNSTAIRS                 3  \n",
            "WALKING_UPSTAIRS                 460  \n"
          ]
        }
      ]
    },
    {
      "cell_type": "code",
      "source": [
        "score = model.evaluate(X_test, Y_test)"
      ],
      "metadata": {
        "colab": {
          "base_uri": "https://localhost:8080/"
        },
        "id": "8Sri_UVa3pUX",
        "outputId": "cc458ff1-b300-4d9c-f1d3-28df960f07c0"
      },
      "execution_count": null,
      "outputs": [
        {
          "output_type": "stream",
          "name": "stdout",
          "text": [
            "93/93 [==============================] - 1s 7ms/step - loss: 0.4137 - accuracy: 0.9104\n"
          ]
        }
      ]
    },
    {
      "cell_type": "code",
      "source": [
        "score = model.evaluate(X_test, Y_test)\n",
        "\n",
        "print(\"\\n   cat_crossentropy  ||   accuracy \")\n",
        "print(\"  ____________________________________\")\n",
        "print(score)"
      ],
      "metadata": {
        "colab": {
          "base_uri": "https://localhost:8080/"
        },
        "id": "kTz_Td4K30i5",
        "outputId": "4b500aa7-ba0e-40cc-ae81-67e748fb7f2c"
      },
      "execution_count": null,
      "outputs": [
        {
          "output_type": "stream",
          "name": "stdout",
          "text": [
            "93/93 [==============================] - 1s 7ms/step - loss: 0.4137 - accuracy: 0.9104\n",
            "\n",
            "   cat_crossentropy  ||   accuracy \n",
            "  ____________________________________\n",
            "[0.4137417674064636, 0.910417377948761]\n"
          ]
        }
      ]
    },
    {
      "cell_type": "code",
      "source": [
        "# Initializing parameters\n",
        "n_epochs = 30\n",
        "n_batch = 16\n",
        "n_classes = _count_classes(Y_train)\n",
        "\n",
        "# Bias regularizer value - we will use elasticnet\n",
        "from keras import regularizers\n",
        "\n",
        "regularizers.l1_l2(l1=0.001, l2=0.1) # the strength of l1 is set to 0.001 and l2 to 0.1\n"
      ],
      "metadata": {
        "colab": {
          "base_uri": "https://localhost:8080/"
        },
        "id": "GX3-VIIQ380-",
        "outputId": "b01029fd-85c9-4cbf-f47b-179fa52bd1c4"
      },
      "execution_count": null,
      "outputs": [
        {
          "output_type": "execute_result",
          "data": {
            "text/plain": [
              "<keras.regularizers.L1L2 at 0x7fc54da24750>"
            ]
          },
          "metadata": {},
          "execution_count": 26
        }
      ]
    },
    {
      "cell_type": "code",
      "source": [
        "# Model execution\n",
        "from keras.layers import BatchNormalization \n",
        "model = Sequential()\n",
        "model.add(LSTM(48, input_shape=(timesteps, input_dim), return_sequences=True))\n",
        "model.add(BatchNormalization())\n",
        "model.add(Dropout(0.50))\n",
        "model.add(LSTM(32))\n",
        "model.add(Dropout(0.50))\n",
        "model.add(Dense(n_classes, activation='sigmoid'))\n",
        "print(\"Model Summary: \")\n",
        "model.summary()"
      ],
      "metadata": {
        "colab": {
          "base_uri": "https://localhost:8080/"
        },
        "id": "QWzSXNnG4iKO",
        "outputId": "de4c450c-28d2-41c2-ca94-18e644ec6aee"
      },
      "execution_count": null,
      "outputs": [
        {
          "output_type": "stream",
          "name": "stdout",
          "text": [
            "Model Summary: \n",
            "Model: \"sequential_1\"\n",
            "_________________________________________________________________\n",
            " Layer (type)                Output Shape              Param #   \n",
            "=================================================================\n",
            " lstm_1 (LSTM)               (None, 128, 48)           11136     \n",
            "                                                                 \n",
            " batch_normalization (BatchN  (None, 128, 48)          192       \n",
            " ormalization)                                                   \n",
            "                                                                 \n",
            " dropout_1 (Dropout)         (None, 128, 48)           0         \n",
            "                                                                 \n",
            " lstm_2 (LSTM)               (None, 32)                10368     \n",
            "                                                                 \n",
            " dropout_2 (Dropout)         (None, 32)                0         \n",
            "                                                                 \n",
            " dense_1 (Dense)             (None, 6)                 198       \n",
            "                                                                 \n",
            "=================================================================\n",
            "Total params: 21,894\n",
            "Trainable params: 21,798\n",
            "Non-trainable params: 96\n",
            "_________________________________________________________________\n"
          ]
        }
      ]
    },
    {
      "cell_type": "code",
      "source": [
        "model.compile(loss='categorical_crossentropy', optimizer='adam', metrics=['accuracy'])"
      ],
      "metadata": {
        "id": "lWRhpfcX55TL"
      },
      "execution_count": null,
      "outputs": []
    },
    {
      "cell_type": "code",
      "source": [
        "# Training the model\n",
        "model.fit(X_train,\n",
        "          Y_train, \n",
        "          batch_size=n_batch,\n",
        "          validation_data=(X_test, Y_test), \n",
        "          epochs= n_epochs)"
      ],
      "metadata": {
        "colab": {
          "base_uri": "https://localhost:8080/"
        },
        "id": "kTu302N75-tX",
        "outputId": "4ab5d5f0-97f2-4380-9b55-438b87a88546"
      },
      "execution_count": null,
      "outputs": [
        {
          "output_type": "stream",
          "name": "stdout",
          "text": [
            "Epoch 1/30\n",
            "460/460 [==============================] - 31s 61ms/step - loss: 0.8558 - accuracy: 0.6842 - val_loss: 0.4024 - val_accuracy: 0.8799\n",
            "Epoch 2/30\n",
            "460/460 [==============================] - 27s 60ms/step - loss: 0.3732 - accuracy: 0.8814 - val_loss: 0.4981 - val_accuracy: 0.8042\n",
            "Epoch 3/30\n",
            "460/460 [==============================] - 27s 59ms/step - loss: 0.3064 - accuracy: 0.9008 - val_loss: 0.2548 - val_accuracy: 0.8918\n",
            "Epoch 4/30\n",
            "460/460 [==============================] - 28s 61ms/step - loss: 0.2206 - accuracy: 0.9285 - val_loss: 0.3191 - val_accuracy: 0.8907\n",
            "Epoch 5/30\n",
            "460/460 [==============================] - 27s 60ms/step - loss: 0.3269 - accuracy: 0.8966 - val_loss: 0.2696 - val_accuracy: 0.8935\n",
            "Epoch 6/30\n",
            "460/460 [==============================] - 28s 61ms/step - loss: 0.2296 - accuracy: 0.9234 - val_loss: 0.2965 - val_accuracy: 0.8914\n",
            "Epoch 7/30\n",
            "460/460 [==============================] - 28s 60ms/step - loss: 0.1803 - accuracy: 0.9378 - val_loss: 0.2297 - val_accuracy: 0.9203\n",
            "Epoch 8/30\n",
            "460/460 [==============================] - 28s 60ms/step - loss: 0.1768 - accuracy: 0.9363 - val_loss: 0.2527 - val_accuracy: 0.9097\n",
            "Epoch 9/30\n",
            "460/460 [==============================] - 29s 62ms/step - loss: 0.1676 - accuracy: 0.9388 - val_loss: 0.2773 - val_accuracy: 0.9030\n",
            "Epoch 10/30\n",
            "460/460 [==============================] - 28s 60ms/step - loss: 0.1910 - accuracy: 0.9275 - val_loss: 0.2503 - val_accuracy: 0.9057\n",
            "Epoch 11/30\n",
            "460/460 [==============================] - 28s 60ms/step - loss: 0.1640 - accuracy: 0.9374 - val_loss: 0.2231 - val_accuracy: 0.9199\n",
            "Epoch 12/30\n",
            "460/460 [==============================] - 27s 60ms/step - loss: 0.1853 - accuracy: 0.9331 - val_loss: 0.2208 - val_accuracy: 0.9118\n",
            "Epoch 13/30\n",
            "460/460 [==============================] - 28s 62ms/step - loss: 0.1573 - accuracy: 0.9381 - val_loss: 0.2729 - val_accuracy: 0.9084\n",
            "Epoch 14/30\n",
            "460/460 [==============================] - 27s 60ms/step - loss: 0.1392 - accuracy: 0.9436 - val_loss: 0.1993 - val_accuracy: 0.9321\n",
            "Epoch 15/30\n",
            "460/460 [==============================] - 28s 60ms/step - loss: 0.1618 - accuracy: 0.9416 - val_loss: 0.3256 - val_accuracy: 0.9013\n",
            "Epoch 16/30\n",
            "460/460 [==============================] - 27s 60ms/step - loss: 0.1650 - accuracy: 0.9380 - val_loss: 0.2971 - val_accuracy: 0.8985\n",
            "Epoch 17/30\n",
            "460/460 [==============================] - 28s 60ms/step - loss: 0.1684 - accuracy: 0.9343 - val_loss: 0.2042 - val_accuracy: 0.9206\n",
            "Epoch 18/30\n",
            "460/460 [==============================] - 29s 62ms/step - loss: 0.1450 - accuracy: 0.9412 - val_loss: 0.2127 - val_accuracy: 0.9220\n",
            "Epoch 19/30\n",
            "460/460 [==============================] - 28s 61ms/step - loss: 0.1362 - accuracy: 0.9452 - val_loss: 0.1987 - val_accuracy: 0.9270\n",
            "Epoch 20/30\n",
            "460/460 [==============================] - 28s 60ms/step - loss: 0.1322 - accuracy: 0.9457 - val_loss: 0.1765 - val_accuracy: 0.9298\n",
            "Epoch 21/30\n",
            "460/460 [==============================] - 28s 60ms/step - loss: 0.2089 - accuracy: 0.9276 - val_loss: 0.1938 - val_accuracy: 0.9179\n",
            "Epoch 22/30\n",
            "460/460 [==============================] - 29s 62ms/step - loss: 0.1663 - accuracy: 0.9381 - val_loss: 0.2119 - val_accuracy: 0.9209\n",
            "Epoch 23/30\n",
            "460/460 [==============================] - 28s 60ms/step - loss: 0.1492 - accuracy: 0.9425 - val_loss: 0.2055 - val_accuracy: 0.9264\n",
            "Epoch 24/30\n",
            "460/460 [==============================] - 28s 60ms/step - loss: 0.1272 - accuracy: 0.9468 - val_loss: 0.2146 - val_accuracy: 0.9298\n",
            "Epoch 25/30\n",
            "460/460 [==============================] - 28s 60ms/step - loss: 0.1294 - accuracy: 0.9490 - val_loss: 0.2314 - val_accuracy: 0.9321\n",
            "Epoch 26/30\n",
            "460/460 [==============================] - 27s 60ms/step - loss: 0.1328 - accuracy: 0.9479 - val_loss: 0.2151 - val_accuracy: 0.9359\n",
            "Epoch 27/30\n",
            "460/460 [==============================] - 28s 62ms/step - loss: 0.1245 - accuracy: 0.9486 - val_loss: 0.2472 - val_accuracy: 0.9247\n",
            "Epoch 28/30\n",
            "460/460 [==============================] - 28s 60ms/step - loss: 0.1254 - accuracy: 0.9489 - val_loss: 0.2690 - val_accuracy: 0.9175\n",
            "Epoch 29/30\n",
            "460/460 [==============================] - 28s 61ms/step - loss: 0.1255 - accuracy: 0.9482 - val_loss: 0.2679 - val_accuracy: 0.9216\n",
            "Epoch 30/30\n",
            "460/460 [==============================] - 28s 60ms/step - loss: 0.1595 - accuracy: 0.9396 - val_loss: 0.3974 - val_accuracy: 0.8955\n"
          ]
        },
        {
          "output_type": "execute_result",
          "data": {
            "text/plain": [
              "<keras.callbacks.History at 0x7fc54d9ddf10>"
            ]
          },
          "metadata": {},
          "execution_count": 29
        }
      ]
    },
    {
      "cell_type": "code",
      "source": [
        "# Confusion Matrix\n",
        "print(confusion_matrix(Y_test, model.predict(X_test)))"
      ],
      "metadata": {
        "colab": {
          "base_uri": "https://localhost:8080/"
        },
        "id": "ppp108zk7e3Q",
        "outputId": "23aa1ef9-13ea-4efc-c7c0-84b72e4c6b31"
      },
      "execution_count": null,
      "outputs": [
        {
          "output_type": "stream",
          "name": "stdout",
          "text": [
            "93/93 [==============================] - 2s 16ms/step\n",
            "Pred                LAYING  SITTING  STANDING  WALKING  WALKING_DOWNSTAIRS  \\\n",
            "True                                                                         \n",
            "LAYING                 537        0         0        0                   0   \n",
            "SITTING                  4      373       112        0                   1   \n",
            "STANDING                 0       66       464        0                   2   \n",
            "WALKING                  0        4        12      434                  38   \n",
            "WALKING_DOWNSTAIRS       0        0         0        0                 405   \n",
            "WALKING_UPSTAIRS         3        1         6        7                  28   \n",
            "\n",
            "Pred                WALKING_UPSTAIRS  \n",
            "True                                  \n",
            "LAYING                             0  \n",
            "SITTING                            1  \n",
            "STANDING                           0  \n",
            "WALKING                            8  \n",
            "WALKING_DOWNSTAIRS                15  \n",
            "WALKING_UPSTAIRS                 426  \n"
          ]
        }
      ]
    },
    {
      "cell_type": "code",
      "source": [
        "score = model.evaluate(X_test, Y_test)\n",
        "\n",
        "print(\"\\n   cat_crossentropy  ||   accuracy \")\n",
        "print(\"  ____________________________________\")\n",
        "print(score)"
      ],
      "metadata": {
        "colab": {
          "base_uri": "https://localhost:8080/"
        },
        "id": "-if-oUaD7hjE",
        "outputId": "c56d6393-4a65-4a44-a719-f88eafa357d6"
      },
      "execution_count": null,
      "outputs": [
        {
          "output_type": "stream",
          "name": "stdout",
          "text": [
            "93/93 [==============================] - 1s 16ms/step - loss: 0.3974 - accuracy: 0.8955\n",
            "\n",
            "   cat_crossentropy  ||   accuracy \n",
            "  ____________________________________\n",
            "[0.3974277079105377, 0.8954869508743286]\n"
          ]
        }
      ]
    },
    {
      "cell_type": "code",
      "source": [
        "# Model execution\n",
        "from keras.layers import BatchNormalization\n",
        "model = Sequential()\n",
        "model.add(LSTM(64, input_shape=(timesteps, input_dim), return_sequences=True))\n",
        "model.add(BatchNormalization())\n",
        "model.add(Dropout(0.50))\n",
        "model.add(LSTM(48))\n",
        "model.add(Dropout(0.50))\n",
        "model.add(Dense(n_classes, activation='sigmoid'))\n",
        "print(\"Model Summary: \")\n",
        "model.summary()"
      ],
      "metadata": {
        "colab": {
          "base_uri": "https://localhost:8080/"
        },
        "id": "LL_-gr_sPmJS",
        "outputId": "932ea2eb-72c4-4c73-f0b4-d613d4d5a615"
      },
      "execution_count": null,
      "outputs": [
        {
          "output_type": "stream",
          "name": "stdout",
          "text": [
            "Model Summary: \n",
            "Model: \"sequential_2\"\n",
            "_________________________________________________________________\n",
            " Layer (type)                Output Shape              Param #   \n",
            "=================================================================\n",
            " lstm_3 (LSTM)               (None, 128, 64)           18944     \n",
            "                                                                 \n",
            " batch_normalization_1 (Batc  (None, 128, 64)          256       \n",
            " hNormalization)                                                 \n",
            "                                                                 \n",
            " dropout_3 (Dropout)         (None, 128, 64)           0         \n",
            "                                                                 \n",
            " lstm_4 (LSTM)               (None, 48)                21696     \n",
            "                                                                 \n",
            " dropout_4 (Dropout)         (None, 48)                0         \n",
            "                                                                 \n",
            " dense_2 (Dense)             (None, 6)                 294       \n",
            "                                                                 \n",
            "=================================================================\n",
            "Total params: 41,190\n",
            "Trainable params: 41,062\n",
            "Non-trainable params: 128\n",
            "_________________________________________________________________\n"
          ]
        }
      ]
    },
    {
      "cell_type": "code",
      "source": [
        "model.compile(loss='categorical_crossentropy', optimizer='adam', metrics=['accuracy'])"
      ],
      "metadata": {
        "id": "_xkYE6QKQMoU"
      },
      "execution_count": null,
      "outputs": []
    },
    {
      "cell_type": "code",
      "source": [
        "# Training the model\n",
        "model.fit(X_train, Y_train, batch_size=n_batch, validation_data=(X_test, Y_test), epochs=n_epochs)"
      ],
      "metadata": {
        "colab": {
          "base_uri": "https://localhost:8080/"
        },
        "id": "Ae4daWh6QYTe",
        "outputId": "812a305b-422d-48a6-ce81-45ef802daf99"
      },
      "execution_count": null,
      "outputs": [
        {
          "output_type": "stream",
          "name": "stdout",
          "text": [
            "Epoch 1/30\n",
            "460/460 [==============================] - 37s 75ms/step - loss: 0.7153 - accuracy: 0.7349 - val_loss: 0.5366 - val_accuracy: 0.8283\n",
            "Epoch 2/30\n",
            "460/460 [==============================] - 33s 71ms/step - loss: 0.3114 - accuracy: 0.8989 - val_loss: 0.3680 - val_accuracy: 0.8683\n",
            "Epoch 3/30\n",
            "460/460 [==============================] - 33s 71ms/step - loss: 0.2802 - accuracy: 0.9030 - val_loss: 0.3072 - val_accuracy: 0.9002\n",
            "Epoch 4/30\n",
            "460/460 [==============================] - 33s 71ms/step - loss: 0.2105 - accuracy: 0.9252 - val_loss: 0.2482 - val_accuracy: 0.9074\n",
            "Epoch 5/30\n",
            "460/460 [==============================] - 35s 77ms/step - loss: 0.1922 - accuracy: 0.9332 - val_loss: 0.2584 - val_accuracy: 0.9111\n",
            "Epoch 6/30\n",
            "460/460 [==============================] - 33s 72ms/step - loss: 0.1777 - accuracy: 0.9329 - val_loss: 0.2386 - val_accuracy: 0.9196\n",
            "Epoch 7/30\n",
            "460/460 [==============================] - 34s 73ms/step - loss: 0.1773 - accuracy: 0.9353 - val_loss: 0.3286 - val_accuracy: 0.8921\n",
            "Epoch 8/30\n",
            "460/460 [==============================] - 33s 71ms/step - loss: 0.1905 - accuracy: 0.9294 - val_loss: 0.2698 - val_accuracy: 0.8935\n",
            "Epoch 9/30\n",
            "460/460 [==============================] - 33s 73ms/step - loss: 0.1554 - accuracy: 0.9437 - val_loss: 0.3124 - val_accuracy: 0.9104\n",
            "Epoch 10/30\n",
            "460/460 [==============================] - 33s 71ms/step - loss: 0.1442 - accuracy: 0.9422 - val_loss: 0.2422 - val_accuracy: 0.9128\n",
            "Epoch 11/30\n",
            "460/460 [==============================] - 33s 71ms/step - loss: 0.1353 - accuracy: 0.9425 - val_loss: 0.2783 - val_accuracy: 0.8965\n",
            "Epoch 12/30\n",
            "460/460 [==============================] - 33s 71ms/step - loss: 0.1969 - accuracy: 0.9327 - val_loss: 0.3401 - val_accuracy: 0.9080\n",
            "Epoch 13/30\n",
            "460/460 [==============================] - 33s 72ms/step - loss: 0.1450 - accuracy: 0.9419 - val_loss: 0.3812 - val_accuracy: 0.9111\n",
            "Epoch 14/30\n",
            "460/460 [==============================] - 33s 71ms/step - loss: 0.1422 - accuracy: 0.9436 - val_loss: 0.4371 - val_accuracy: 0.8897\n",
            "Epoch 15/30\n",
            "460/460 [==============================] - 33s 72ms/step - loss: 0.1423 - accuracy: 0.9437 - val_loss: 0.6083 - val_accuracy: 0.8612\n",
            "Epoch 16/30\n",
            "460/460 [==============================] - 34s 74ms/step - loss: 0.1715 - accuracy: 0.9377 - val_loss: 0.3157 - val_accuracy: 0.9046\n",
            "Epoch 17/30\n",
            "460/460 [==============================] - 33s 72ms/step - loss: 0.1701 - accuracy: 0.9388 - val_loss: 0.3570 - val_accuracy: 0.9040\n",
            "Epoch 18/30\n",
            "460/460 [==============================] - 33s 72ms/step - loss: 0.1394 - accuracy: 0.9445 - val_loss: 0.3396 - val_accuracy: 0.9013\n",
            "Epoch 19/30\n",
            "460/460 [==============================] - 33s 72ms/step - loss: 0.1211 - accuracy: 0.9506 - val_loss: 0.3509 - val_accuracy: 0.9057\n",
            "Epoch 20/30\n",
            "460/460 [==============================] - 33s 73ms/step - loss: 0.1205 - accuracy: 0.9524 - val_loss: 0.2983 - val_accuracy: 0.9128\n",
            "Epoch 21/30\n",
            "460/460 [==============================] - 33s 71ms/step - loss: 0.1250 - accuracy: 0.9493 - val_loss: 0.2836 - val_accuracy: 0.9243\n",
            "Epoch 22/30\n",
            "460/460 [==============================] - 33s 72ms/step - loss: 0.1238 - accuracy: 0.9484 - val_loss: 0.3220 - val_accuracy: 0.9158\n",
            "Epoch 23/30\n",
            "460/460 [==============================] - 33s 71ms/step - loss: 0.1590 - accuracy: 0.9404 - val_loss: 0.2895 - val_accuracy: 0.9162\n",
            "Epoch 24/30\n",
            "460/460 [==============================] - 34s 74ms/step - loss: 0.1257 - accuracy: 0.9486 - val_loss: 0.2812 - val_accuracy: 0.9298\n",
            "Epoch 25/30\n",
            "460/460 [==============================] - 33s 72ms/step - loss: 0.1260 - accuracy: 0.9479 - val_loss: 0.2842 - val_accuracy: 0.9186\n",
            "Epoch 26/30\n",
            "460/460 [==============================] - 33s 71ms/step - loss: 0.1376 - accuracy: 0.9471 - val_loss: 0.2807 - val_accuracy: 0.9108\n",
            "Epoch 27/30\n",
            "460/460 [==============================] - 33s 72ms/step - loss: 0.1356 - accuracy: 0.9456 - val_loss: 0.2815 - val_accuracy: 0.9128\n",
            "Epoch 28/30\n",
            "460/460 [==============================] - 34s 73ms/step - loss: 0.1227 - accuracy: 0.9506 - val_loss: 0.3053 - val_accuracy: 0.9111\n",
            "Epoch 29/30\n",
            "460/460 [==============================] - 33s 72ms/step - loss: 0.1189 - accuracy: 0.9512 - val_loss: 0.3545 - val_accuracy: 0.9101\n",
            "Epoch 30/30\n",
            "460/460 [==============================] - 33s 71ms/step - loss: 0.1322 - accuracy: 0.9467 - val_loss: 0.3086 - val_accuracy: 0.9169\n"
          ]
        },
        {
          "output_type": "execute_result",
          "data": {
            "text/plain": [
              "<keras.callbacks.History at 0x7fc5498b4090>"
            ]
          },
          "metadata": {},
          "execution_count": 34
        }
      ]
    },
    {
      "cell_type": "code",
      "source": [
        "# Confusion Matrix\n",
        "print(confusion_matrix(Y_test, model.predict(X_test)))"
      ],
      "metadata": {
        "colab": {
          "base_uri": "https://localhost:8080/"
        },
        "id": "xQCk1-c4YM_t",
        "outputId": "1148a3d3-825f-455c-af49-a8455ec65b5a"
      },
      "execution_count": null,
      "outputs": [
        {
          "output_type": "stream",
          "name": "stdout",
          "text": [
            "93/93 [==============================] - 3s 21ms/step\n",
            "Pred                LAYING  SITTING  STANDING  WALKING  WALKING_DOWNSTAIRS  \\\n",
            "True                                                                         \n",
            "LAYING                 537        0         0        0                   0   \n",
            "SITTING                  2      379       108        0                   0   \n",
            "STANDING                 0       77       454        0                   1   \n",
            "WALKING                  0        0         0      463                  29   \n",
            "WALKING_DOWNSTAIRS       0        0         0        0                 419   \n",
            "WALKING_UPSTAIRS         0        0         0        0                  21   \n",
            "\n",
            "Pred                WALKING_UPSTAIRS  \n",
            "True                                  \n",
            "LAYING                             0  \n",
            "SITTING                            2  \n",
            "STANDING                           0  \n",
            "WALKING                            4  \n",
            "WALKING_DOWNSTAIRS                 1  \n",
            "WALKING_UPSTAIRS                 450  \n"
          ]
        }
      ]
    },
    {
      "cell_type": "code",
      "source": [
        "score = model.evaluate(X_test, Y_test)\n",
        "\n",
        "print(\"\\n   cat_crossentropy  ||   accuracy \")\n",
        "print(\"  ____________________________________\")\n",
        "print(score)"
      ],
      "metadata": {
        "colab": {
          "base_uri": "https://localhost:8080/"
        },
        "id": "uxibgQ53YQik",
        "outputId": "9ce3ad15-8985-405d-d93e-c751fb9c7db1"
      },
      "execution_count": null,
      "outputs": [
        {
          "output_type": "stream",
          "name": "stdout",
          "text": [
            "93/93 [==============================] - 2s 22ms/step - loss: 0.3086 - accuracy: 0.9169\n",
            "\n",
            "   cat_crossentropy  ||   accuracy \n",
            "  ____________________________________\n",
            "[0.3086159825325012, 0.9168646335601807]\n"
          ]
        }
      ]
    }
  ]
}